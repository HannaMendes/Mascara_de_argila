{
 "cells": [
  {
   "cell_type": "markdown",
   "id": "83a9cec6",
   "metadata": {},
   "source": [
    "# Projeto Integrado CDIA5 - Grupo 3"
   ]
  },
  {
   "cell_type": "markdown",
   "id": "667adbb2",
   "metadata": {},
   "source": [
    "# Sistema de Arquivo Distribuídos - HDFS e PySpark"
   ]
  },
  {
   "cell_type": "markdown",
   "id": "9ab90999",
   "metadata": {},
   "source": [
    "# Coletando dados de 20 sites"
   ]
  },
  {
   "cell_type": "markdown",
   "id": "61a3797c",
   "metadata": {},
   "source": [
    "## Visão Geral\n",
    "Esse código pretende coletar dados de 20 sites dinâmicos diferentes e transformá-los em arquivos txt."
   ]
  },
  {
   "cell_type": "code",
   "execution_count": 1,
   "id": "b86a6ec7",
   "metadata": {},
   "outputs": [],
   "source": [
    "#Importações\n",
    "from selenium import webdriver\n",
    "import time\n",
    "from selenium.webdriver.common.by import By\n",
    "from selenium.webdriver.common.keys import Keys"
   ]
  },
  {
   "cell_type": "code",
   "execution_count": null,
   "id": "c2bb1786",
   "metadata": {},
   "outputs": [],
   "source": [
    "#Criando uma nova pasta para salvar os sites\n",
    "try:\n",
    "    os.makedirs(\"sites\")\n",
    "except:\n",
    "    pass"
   ]
  },
  {
   "cell_type": "markdown",
   "id": "cf0e5d19",
   "metadata": {},
   "source": [
    "Existem sites que precisam de uma atenção especial em suas coletas, para isso é necessária a criação de 3 funções, as quais serão usadas como parâmetros futuramente."
   ]
  },
  {
   "cell_type": "code",
   "execution_count": null,
   "id": "41e3e26f",
   "metadata": {},
   "outputs": [],
   "source": [
    "#Função para excluir classes \"divs\"\n",
    "def get_text_exclude_divs(container):\n",
    "    elements = container.find_elements(By.XPATH, \"./*\")\n",
    "    elements = [elem.text for elem in elements if elem.tag_name != \"div\"]\n",
    "    return \"\\n\".join(elements)\n",
    "\n",
    "#Função exclusiva para o site Versatille (Exclui classes \"div\" e \"ul\")\n",
    "def get_text_versatille(container):\n",
    "    container = container.find_element(By.TAG_NAME, \"div\")\n",
    "    elements = container.find_elements(By.XPATH, \"./*\")\n",
    "    elements = [elem.text for elem in elements if elem.tag_name != \"div\" and elem.tag_name != \"ul\"]\n",
    "    return \"\\n\".join(elements).replace(\"LEIA TAMBÉM:\", \"\")\n",
    "\n",
    "#Função exclusiva para o site stealthelook (exlcui classes \"p\" e \"h2\", exclui tambem tudo abaixo do \"Leia mais\"(Não relevante para o trabalho))\n",
    "def get_text_stealthelook(container):\n",
    "    elements = container.find_elements(By.XPATH, \"./*\")\n",
    "    elements = [elem.text for elem in elements if elem.tag_name == \"p\" or elem.tag_name == \"h2\"]\n",
    "    return \"\\n\".join(elements).split(\"LEIA MAIS\")[0]"
   ]
  },
  {
   "cell_type": "markdown",
   "id": "234a6c18",
   "metadata": {},
   "source": [
    "15 site podem ser feitos de maneira simples, fornecendo a url e a Classe, Id ou Xpath que será raspada.\n",
    "\n",
    "5 sites recebem a url e a Classe ou Xpath que contem o texto principal e uma das funções feitas acima."
   ]
  },
  {
   "cell_type": "code",
   "execution_count": null,
   "id": "7a2c8333",
   "metadata": {},
   "outputs": [],
   "source": [
    "#Urls que serão usados para análise \n",
    "urls = [\n",
    "    (\"https://www.tudosobremake.com.br/noticia/mascara-de-argila-no-rosto-saiba-como-usar-o-produto-antes-e-depois-de-fazer-uma-maquiagem-de-festa_a20067/1\", By.CLASS_NAME, \"article-content__text-block\", None),\n",
    "    (\"https://www.loreal-paris.com.br/argila-para-o-rosto-saiba-como-inserir-a-mascara-facial-na-sua-rotina-de-cuidados-com-a-pele#:~:text=As%20m%C3%A1scaras%20de%20argila%20devem,e%20antes%20do%20creme%20hidratante.\",By.CLASS_NAME, \"rich-text\", None),\n",
    "    (\"https://terralnatural.com.br/blogs/news/mascara-de-argila\", By.CLASS_NAME, \"article__content\", None),\n",
    "    (\"https://www.dermaclub.com.br/blog/todos-os-temas/argila-verde-branca-preta-como-usar-na-pele-quais-sao-os-tipos-para-que-serve-conheca-os-beneficios_a9283.html\", By.CLASS_NAME, \"l-blog-article__content\", None),\n",
    "    (\"https://quintaldermocosmeticos.com.br/blogs/quintal/argila-beleza-que-vem-do-solo?psafe_param=1&gad=1&gclid=CjwKCAjwvJyjBhApEiwAWz2nLSHEs0mQehb5YPbETSbRzH8-DKBCcLmc0OplQfX_8UOgHQm1sQsPuhoCZJ8QAvD_BwE\", By.CLASS_NAME, \"rte\", None),\n",
    "    (\"https://odia.ig.com.br/d-mulher/2017-01-26/argilas-para-o-rosto-fazem-drenagem-e-desintoxicam-a-pele.html\", By.CLASS_NAME, \"article-body\", None),\n",
    "    (\"https://www.fashionbubbles.com/beleza/mascara-de-argila/\", By.CLASS_NAME, \"content-wrap\", None),\n",
    "    (\"https://manipurafarmacia.com.br/mascaras-de-argila-tudo-sobre-elas/\", By.CLASS_NAME, \"article-inner\", None),\n",
    "    (\"https://revistaquem.globo.com/QUEM-Inspira/noticia/2019/05/receita-caseira-aprenda-fazer-mascara-facial-detox-da-blogueira-mari-saad.html\", By.CLASS_NAME, \"protected-content\", None),\n",
    "    (\"https://simpleorganic.com.br/blogs/simple-blog/argila-para-os-rosto-como-usar-e-diluir\", By.CLASS_NAME, \"Article__Content\", None),\n",
    "    (\"https://carenb.com/blogs/beauty-journal/mascara-de-argila-saiba-como-utilizar-e-seus-beneficios\", By.CLASS_NAME, \"article-template\", None),\n",
    "    (\"https://www.ecycle.com.br/limpeza-de-pele-com-argila/\", By.ID, \"entry-content\", None),\n",
    "    (\"https://hidrabene.com.br/post/o-que-a-mascara-de-argila-faz-no-rosto/\", By.XPATH, \"//div[@class='conteudo has-text-justified']\", None),    \n",
    "    (\"https://tropicabotanica.com.br/quais-o-tipos-de-argila-indicados-para-cada-rosto/\", By.CLASS_NAME, \"entry-content\", None),\n",
    "    (\"https://www.natura.com.br/blog/pele/mascara-de-argila-conheca-os-beneficios-e-o-jeito-certo-de-aplicar\", By.XPATH, '//*[@id=\"root\"]/div[3]/div/article/div[2]/div[2]', None),\n",
    "    #Sites que precisam de mais atenção    \n",
    "    (\"https://cabelo.com.br/argila-no-cabelo-veja-os-beneficios-de-usar-o-produto-no-cabelo/\", By.CLASS_NAME, \"entry-content\", get_text_exclude_divs),    \n",
    "    (\"https://pontodamulher.com.br/mascara-de-argila-verde\", By.CLASS_NAME, \"col-lg-9\", get_text_exclude_divs),\n",
    "    (\"https://www.belezanaweb.com.br/loucas-por-beleza/como-usar-argila-no-cabelo/\", By.CLASS_NAME, \"post-content\", get_text_exclude_divs),\n",
    "    (\"https://versatille.com/skin-care-3-receitas-caseiras-e-faceis-com-argila-e-oleos-essenciais/\", By.CLASS_NAME, \"edgtf-post-text\", get_text_versatille),\n",
    "    (\"https://stealthelook.com.br/argila-no-cabelo-quais-sao-os-beneficios-e-como-usar-cada-uma-delas/\", By.XPATH, \"//main/article\", get_text_stealthelook), \n",
    "]"
   ]
  },
  {
   "cell_type": "markdown",
   "id": "dc16340e",
   "metadata": {},
   "source": [
    "Nessa celula está sendo realizadas as operações de automação usando a biblioteca Selenium WebDriver.\n",
    "Usaremos o Chrome como navegador."
   ]
  },
  {
   "cell_type": "code",
   "execution_count": null,
   "id": "2af09bd3",
   "metadata": {
    "scrolled": true
   },
   "outputs": [],
   "source": [
    "#Operação automatizada usando Selenium WebDriver\n",
    "driver = webdriver.Chrome() #Abre um Chrome vazio\n",
    "for index, url in enumerate(urls): #Enumera as urls\n",
    "    driver.get(url[0]) #Começa o processo apartir da url 0\n",
    "    time.sleep(3)\n",
    "    if url[3] is not None: #Para as urls que necessitam funções\n",
    "        text = url[3](driver.find_element(url[1], url[2]))\n",
    "    else: #Se a url não usar função simplesmente extrai o texto usando o seletor url[1] e ur[2]\n",
    "        text = driver.find_element(url[1], url[2]).text\n",
    "    with open(f\"sites/site{index+1}_content.txt\", \"w\", encoding=\"utf-8\") as f:\n",
    "        f.write(text)#salva o texto extraído\n",
    "    time.sleep(3)\n",
    "\n",
    "driver.quit() #Fecha o navegador e encerra a instância do WebDriver."
   ]
  },
  {
   "cell_type": "markdown",
   "id": "1ec3028f",
   "metadata": {},
   "source": [
    "Cada site visitado será salvo como arquivos txt's separadamente no diretório onde o arquivo está salvo. \n",
    "A aplicação pode levar um longo tempo para ser finalizada."
   ]
  },
  {
   "cell_type": "markdown",
   "id": "d0ac375a",
   "metadata": {},
   "source": [
    "# Coletando dados do Facebook"
   ]
  },
  {
   "cell_type": "markdown",
   "id": "b6cd982b",
   "metadata": {},
   "source": [
    "Para podermos usar o Facebook é necessário ter uma conta, caso contrario conseguimos visualizar apenas uma publicação de cada vez, para resolver esse problema uma conta foi criada para podermos acessar os dados sem mais problemas, essa conta não pertence a ninguém especifico e foi criada apenas para fins da realização desse trabalho.\n",
    "A url fornecida nos levara diretamente para a área destina a publicações relacionas a máscaras de argila."
   ]
  },
  {
   "cell_type": "code",
   "execution_count": 2,
   "id": "10faedae",
   "metadata": {},
   "outputs": [],
   "source": [
    "fb_url = \"https://www.facebook.com/search/posts/?q=mascara%20de%20argila&__tsid__=0.5023192808728404&__epa__=SERP_TAB&__eps__=SERP_POSTS_TAB\"\n",
    "\n",
    "user = \"yadoji2440@mevori.com\"\n",
    "pw = \"mevori.com@yadoji2440\""
   ]
  },
  {
   "cell_type": "code",
   "execution_count": 5,
   "id": "d2e5b776",
   "metadata": {},
   "outputs": [
    {
     "name": "stderr",
     "output_type": "stream",
     "text": [
      "C:\\Users\\positivo\\AppData\\Local\\Temp/ipykernel_3392/3371692306.py:5: DeprecationWarning: use options instead of chrome_options\n",
      "  driver = webdriver.Chrome(chrome_options=chrome_options)\n"
     ]
    },
    {
     "name": "stdout",
     "output_type": "stream",
     "text": [
      "encontrados 82 posts\n"
     ]
    }
   ],
   "source": [
    "chrome_options = webdriver.ChromeOptions()\n",
    "prefs = {\"profile.default_content_setting_values.notifications\" : 2}\n",
    "chrome_options.add_experimental_option(\"prefs\",prefs)\n",
    "\n",
    "driver = webdriver.Chrome(chrome_options=chrome_options)\n",
    "driver.get(fb_url)\n",
    "time.sleep(2)\n",
    "elem = driver.switch_to.active_element\n",
    "elem.send_keys(user)\n",
    "elem.send_keys(Keys.TAB)\n",
    "time.sleep(3)\n",
    "elem = driver.switch_to.active_element\n",
    "elem.send_keys(pw)\n",
    "elem.send_keys(Keys.ENTER)\n",
    "time.sleep(5)\n",
    "driver.get(fb_url)\n",
    "time.sleep(3)\n",
    "\n",
    "posts = []\n",
    "old_posts_len = -1\n",
    "i = 1\n",
    "while len(posts) > old_posts_len:\n",
    "    attr = 'data-ad-preview=\"message\"'\n",
    "    driver.execute_script(\"window.scrollTo(0, document.body.scrollHeight);\")\n",
    "    old_posts_len = len(posts)\n",
    "    posts = driver.find_elements(By.XPATH, f'//div[@{attr}]')\n",
    "    time.sleep(1)\n",
    "    novos_posts = len(posts) - old_posts_len\n",
    "    #print(f\"encontrados {novos_posts} novos posts\")\n",
    "    for post in posts[old_posts_len::]:\n",
    "        attr = 'role=\"button\"'\n",
    "        for button in post.find_elements(By.XPATH, f'//div[@{attr}]'):\n",
    "            if button.text.strip() == \"Ver mais\":\n",
    "                #print(\"clicando no ver mais\")\n",
    "                driver.execute_script(\"arguments[0].click();\", button)\n",
    "                break\n",
    "        time.sleep(2)\n",
    "        with open(f\"fb_post_{i+1}.txt\", \"w\", encoding=\"utf-8\") as f:\n",
    "            f.write(post.text)\n",
    "        #print(post.text)\n",
    "        #print(f\"finalizado post {i}\")\n",
    "        i += 1\n",
    "print(f\"encontrados {len(posts)} posts\")"
   ]
  },
  {
   "cell_type": "markdown",
   "id": "65eb3c4b",
   "metadata": {},
   "source": [
    "A aplicação pode demorar para finalizar, não deixe o computador desligar"
   ]
  },
  {
   "cell_type": "markdown",
   "id": "84726c6f",
   "metadata": {},
   "source": [
    "# Juntando os arquivos txt"
   ]
  },
  {
   "cell_type": "markdown",
   "id": "1c4a7e83",
   "metadata": {},
   "source": [
    "Antes de realizarmos todo o processo PySpark para contagem de palavras precisamos juntar todos os arquivos txt coletados do facebook em um único, para isso usaremos o comando abaixo que juntará todos os arquivos txt's localizados na pasta que o caderno está."
   ]
  },
  {
   "cell_type": "markdown",
   "id": "6f339a15",
   "metadata": {},
   "source": [
    "Se pode escolher alguma coisa ou se tem que abritario, por exemplo, se o texto for cansativo?, se o texto tiver ordem nas palavras, por exemlo, argila é a primeira no facebook, e primeira nos site então isso vale sei la 100 pontos"
   ]
  },
  {
   "cell_type": "code",
   "execution_count": null,
   "id": "1c248b2e",
   "metadata": {},
   "outputs": [],
   "source": [
    "copy fb*.txt merged_fb.txt"
   ]
  },
  {
   "cell_type": "markdown",
   "id": "c6d53dc7",
   "metadata": {},
   "source": [
    "# Contando palavras com o PySpark"
   ]
  },
  {
   "cell_type": "code",
   "execution_count": 7,
   "id": "7fbff1b8",
   "metadata": {},
   "outputs": [],
   "source": [
    "#Instalando a biblioteca\n",
    "#!pip install pyspark py4j\n",
    "#!pip install unidecode\n",
    "#Importações\n",
    "import os\n",
    "from pyspark.sql import SparkSession\n",
    "from pyspark.sql.functions import split\n",
    "from pyspark.sql.functions import explode, col\n",
    "from pyspark.sql.functions import lower\n",
    "from pyspark.sql.functions import regexp_extract\n",
    "from pyspark.ml.feature import StopWordsRemover\n",
    "from unidecode import unidecode"
   ]
  },
  {
   "cell_type": "code",
   "execution_count": 3,
   "id": "f8f8eb2a",
   "metadata": {},
   "outputs": [
    {
     "data": {
      "text/html": [
       "\n",
       "            <div>\n",
       "                <p><b>SparkSession - in-memory</b></p>\n",
       "                \n",
       "        <div>\n",
       "            <p><b>SparkContext</b></p>\n",
       "\n",
       "            <p><a href=\"http://DESKTOP-R3F6J44:4041\">Spark UI</a></p>\n",
       "\n",
       "            <dl>\n",
       "              <dt>Version</dt>\n",
       "                <dd><code>v3.3.0</code></dd>\n",
       "              <dt>Master</dt>\n",
       "                <dd><code>local[*]</code></dd>\n",
       "              <dt>AppName</dt>\n",
       "                <dd><code>Máscara_de_argila_Grupo3</code></dd>\n",
       "            </dl>\n",
       "        </div>\n",
       "        \n",
       "            </div>\n",
       "        "
      ],
      "text/plain": [
       "<pyspark.sql.session.SparkSession at 0x26a17c8e8e0>"
      ]
     },
     "execution_count": 3,
     "metadata": {},
     "output_type": "execute_result"
    }
   ],
   "source": [
    "#Iniciando uma sessão no Spark\n",
    "spark = SparkSession \\\n",
    "          .builder \\\n",
    "          .appName(\"Máscara_de_argila_Grupo3\") \\\n",
    "          .getOrCreate()\n",
    "\n",
    "\n",
    "spark"
   ]
  },
  {
   "cell_type": "code",
   "execution_count": 4,
   "id": "5cccb782",
   "metadata": {},
   "outputs": [],
   "source": [
    "#Função limpa, ordena e conta palavras\n",
    "def get_count(filename, lang=\"portuguese\"):\n",
    "    with open(filename, encoding=\"utf-8\") as f:\n",
    "        merged = f.read()\n",
    "    with open(filename, \"w\") as f:\n",
    "        f.write(unidecode(merged))\n",
    "    site = spark.read.text(filename)\n",
    "    lines = site.select(\n",
    "        split(site.value, \" \").alias(\"line\")\n",
    "    )\n",
    "    words = lines.select(\n",
    "        explode(col(\"line\")).alias(\"word\")\n",
    "    )\n",
    "    lowered_words = words.select(\n",
    "        lower(\n",
    "            col(\"word\")\n",
    "        ).alias(\"lowered_word\")\n",
    "    )\n",
    "    cleaned_words = lowered_words.select(\n",
    "        regexp_extract(\n",
    "            col(\"lowered_word\"), # Indico a coluna\n",
    "            \"[a-z]+\", # Seleciona somente o que parece uma palavra\n",
    "            0 # 0 significa dar o match em toda expressão regular\n",
    "        ).alias(\"cleaned_word\")\n",
    "    )\n",
    "    words_nonull = cleaned_words.where(\n",
    "        col(\"cleaned_word\") != \"\"\n",
    "    )\n",
    "    words_nonull = words_nonull.select(\n",
    "        col(\"cleaned_word\").alias(\"word\")\n",
    "    )\n",
    "    words_lst_df = words_nonull.select(\n",
    "        split(\n",
    "            col(\"word\"),\n",
    "            \" \"\n",
    "        ).alias(\"word\")\n",
    "    )\n",
    "    swr = StopWordsRemover(\n",
    "        inputCol=\"word\",\n",
    "        outputCol=\"meaningful\",\n",
    "        stopWords=StopWordsRemover.loadDefaultStopWords(lang),\n",
    "    )\n",
    "    swr_df = swr.transform(words_lst_df)\n",
    "\n",
    "    meaningful = swr_df.select(\n",
    "        (col(\"meaningful\")[0]).alias(\"meaningful\")\n",
    "    )\n",
    "    meaningful_nonull = meaningful.where(\n",
    "        col(\"meaningful\") != \"null\"\n",
    "    )\n",
    "    words_counts = meaningful_nonull.groupby(\n",
    "        col(\"meaningful\")\n",
    "    ).count()\n",
    "\n",
    "    return words_counts.orderBy(\n",
    "        col(\"count\"), \n",
    "        ascending=False\n",
    "    )"
   ]
  },
  {
   "cell_type": "code",
   "execution_count": 5,
   "id": "ed8e5160",
   "metadata": {},
   "outputs": [
    {
     "name": "stdout",
     "output_type": "stream",
     "text": [
      "+----------+-----+\n",
      "|meaningful|count|\n",
      "+----------+-----+\n",
      "|      pele|  264|\n",
      "|    argila|  262|\n",
      "|   mascara|  186|\n",
      "|       nao|  106|\n",
      "|    facial|   92|\n",
      "|     rosto|   61|\n",
      "|      agua|   61|\n",
      "|         r|   60|\n",
      "|      oleo|   60|\n",
      "|    rotina|   53|\n",
      "|       pra|   52|\n",
      "|  produtos|   51|\n",
      "|hidratante|   51|\n",
      "|      voce|   46|\n",
      "|      rosa|   45|\n",
      "|       uso|   44|\n",
      "|        ja|   43|\n",
      "|    semana|   42|\n",
      "|oleosidade|   41|\n",
      "|     verde|   41|\n",
      "+----------+-----+\n",
      "only showing top 20 rows\n",
      "\n"
     ]
    }
   ],
   "source": [
    "#Mostrando o resultado do facebook\n",
    "fb_merged = get_count(\"merged_fb.txt\")\n",
    "fb_merged.show()"
   ]
  },
  {
   "cell_type": "code",
   "execution_count": 8,
   "id": "89c3a972",
   "metadata": {},
   "outputs": [
    {
     "name": "stdout",
     "output_type": "stream",
     "text": [
      "+-------------+-----+\n",
      "|   meaningful|count|\n",
      "+-------------+-----+\n",
      "|       argila|   32|\n",
      "|         pele|   24|\n",
      "|      mascara|   21|\n",
      "|        peles|    8|\n",
      "|         alem|    6|\n",
      "|        conta|    5|\n",
      "|         rica|    5|\n",
      "|      remover|    4|\n",
      "|         voce|    4|\n",
      "|       diluir|    4|\n",
      "|      argilas|    4|\n",
      "|        rosto|    4|\n",
      "|          sao|    4|\n",
      "|       outras|    3|\n",
      "|        assim|    3|\n",
      "| desidratadas|    3|\n",
      "|mineralizante|    3|\n",
      "|        ideal|    3|\n",
      "|      aplicar|    3|\n",
      "|        disso|    3|\n",
      "+-------------+-----+\n",
      "only showing top 20 rows\n",
      "\n"
     ]
    }
   ],
   "source": [
    "#Mostrando o resultado dos sites\n",
    "artigos = {}\n",
    "for site in os.listdir(\"sites\"):\n",
    "    #print(site)\n",
    "    artigos[site] = get_count(f\"sites/{site}\")\n",
    "    # se atual for melhor que o best_article, substituir\n",
    "artigos[\"site10_content.txt\"].show()"
   ]
  },
  {
   "cell_type": "code",
   "execution_count": null,
   "id": "910e67f2",
   "metadata": {},
   "outputs": [],
   "source": [
    "# for artigo in artigos:\n",
    "#     comparar(artigos[artigo], fb_merged)"
   ]
  }
 ],
 "metadata": {
  "kernelspec": {
   "display_name": "Python 3 (ipykernel)",
   "language": "python",
   "name": "python3"
  },
  "language_info": {
   "codemirror_mode": {
    "name": "ipython",
    "version": 3
   },
   "file_extension": ".py",
   "mimetype": "text/x-python",
   "name": "python",
   "nbconvert_exporter": "python",
   "pygments_lexer": "ipython3",
   "version": "3.9.7"
  }
 },
 "nbformat": 4,
 "nbformat_minor": 5
}
